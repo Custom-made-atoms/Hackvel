{
  "nbformat": 4,
  "nbformat_minor": 0,
  "metadata": {
    "colab": {
      "provenance": [],
      "authorship_tag": "ABX9TyPdBbzcJq7rw6M7NKZDtzDn",
      "include_colab_link": true
    },
    "kernelspec": {
      "name": "python3",
      "display_name": "Python 3"
    },
    "language_info": {
      "name": "python"
    }
  },
  "cells": [
    {
      "cell_type": "markdown",
      "metadata": {
        "id": "view-in-github",
        "colab_type": "text"
      },
      "source": [
        "<a href=\"https://colab.research.google.com/github/Custom-made-atoms/Hackvel/blob/main/ML-VelTech.ipynb\" target=\"_parent\"><img src=\"https://colab.research.google.com/assets/colab-badge.svg\" alt=\"Open In Colab\"/></a>"
      ]
    },
    {
      "cell_type": "code",
      "execution_count": null,
      "metadata": {
        "colab": {
          "base_uri": "https://localhost:8080/"
        },
        "id": "ZTxWBXKQtCSq",
        "outputId": "16c41f23-efeb-4a6d-b574-a7248bcc1e97"
      },
      "outputs": [
        {
          "output_type": "stream",
          "name": "stdout",
          "text": [
            "Columns in the dataset: ['Crop', 'Crop_Year', 'Season', 'State', 'Area', 'Production', 'Annual_Rainfall', 'Fertilizer', 'Pesticide', 'Yield']\n",
            "Mean Absolute Error (MAE): 220.31\n",
            "R² Score: 0.03\n",
            "Root Mean Squared Error (RMSE): 932.86\n",
            "Predicted Yield: 136.59 metric tons per hectare\n"
          ]
        }
      ],
      "source": [
        "import pandas as pd\n",
        "import numpy as np\n",
        "from sklearn.model_selection import train_test_split\n",
        "from sklearn.linear_model import LinearRegression\n",
        "from sklearn.preprocessing import LabelEncoder\n",
        "from sklearn.metrics import mean_absolute_error, r2_score\n",
        "\n",
        "# Load dataset\n",
        "file_path = \"/crop_yield.csv\"  # Updated file path to training dataset\n",
        "try:\n",
        "    df = pd.read_csv(file_path)\n",
        "except FileNotFoundError:\n",
        "    print(f\"Error: Dataset file not found at {file_path}\")\n",
        "    exit()  # Exit if the file is not found\n",
        "\n",
        "# Check column names\n",
        "print(\"Columns in the dataset:\", df.columns.tolist())\n",
        "\n",
        "# Convert \"Production\" and \"Area\" to numeric values (if they exist)\n",
        "if \"Production\" in df.columns and \"Area\" in df.columns:\n",
        "    df[\"Production\"] = pd.to_numeric(df[\"Production\"], errors=\"coerce\")\n",
        "    df[\"Area\"] = pd.to_numeric(df[\"Area\"], errors=\"coerce\")\n",
        "else:\n",
        "    raise KeyError(\"The dataset must contain 'Production' and 'Area' columns.\")\n",
        "\n",
        "# Handle missing values\n",
        "df.dropna(subset=[\"Production\", \"Area\"], inplace=True)\n",
        "\n",
        "# Create target variable (Yield = Production / Area)\n",
        "df[\"Yield\"] = df[\"Production\"] / df[\"Area\"]\n",
        "\n",
        "# Feature Engineering: Convert categorical variables to numeric\n",
        "# Remove extra whitespace before encoding\n",
        "label_encoders = {}\n",
        "categorical_cols = [\"Crop\", \"Season\", \"State\"]\n",
        "for col in categorical_cols:\n",
        "    if col in df.columns:\n",
        "        # Strip leading/trailing whitespace from the column values\n",
        "        df[col] = df[col].astype(str).str.strip()\n",
        "        le = LabelEncoder()\n",
        "        df[col] = le.fit_transform(df[col])\n",
        "        label_encoders[col] = le\n",
        "    else:\n",
        "        print(f\"Warning: Column '{col}' not found in the dataset.\")\n",
        "\n",
        "# Define features and target variable\n",
        "X = df.drop(columns=[\"Yield\", \"Production\", \"Area\"])\n",
        "y = df[\"Yield\"]\n",
        "\n",
        "# Split dataset\n",
        "X_train, X_test, y_train, y_test = train_test_split(X, y, test_size=0.2, random_state=42)\n",
        "\n",
        "# Train Linear Regression model\n",
        "model = LinearRegression()\n",
        "model.fit(X_train, y_train)\n",
        "\n",
        "# Make predictions\n",
        "y_pred = model.predict(X_test)\n",
        "\n",
        "# Evaluate model\n",
        "mae = mean_absolute_error(y_test, y_pred)\n",
        "r2 = r2_score(y_test, y_pred)\n",
        "rmse = np.sqrt(((y_pred - y_test) ** 2).mean())\n",
        "\n",
        "print(f\"Mean Absolute Error (MAE): {mae:.2f}\")\n",
        "print(f\"R² Score: {r2:.2f}\")\n",
        "print(f\"Root Mean Squared Error (RMSE): {rmse:.2f}\")\n",
        "\n",
        "# Prediction function that checks for valid categorical input values\n",
        "def predict_crop_yield(crop, crop_year, season, state, annual_rainfall, fertilizer, pesticide):\n",
        "    # Strip input values to avoid mismatches due to extra whitespace\n",
        "    crop = crop.strip()\n",
        "    season = season.strip()\n",
        "    state = state.strip()\n",
        "\n",
        "    # Check if provided categorical values exist in the training data\n",
        "    if crop not in label_encoders[\"Crop\"].classes_:\n",
        "        return f\"Error: Crop '{crop}' not found. Valid options: {list(label_encoders['Crop'].classes_)}\"\n",
        "    if season not in label_encoders[\"Season\"].classes_:\n",
        "        return f\"Error: Season '{season}' not found. Valid options: {list(label_encoders['Season'].classes_)}\"\n",
        "    if state not in label_encoders[\"State\"].classes_:\n",
        "        return f\"Error: State '{state}' not found. Valid options: {list(label_encoders['State'].classes_)}\"\n",
        "\n",
        "    # Encode categorical values\n",
        "    crop_enc = label_encoders[\"Crop\"].transform([crop])[0]\n",
        "    season_enc = label_encoders[\"Season\"].transform([season])[0]\n",
        "    state_enc = label_encoders[\"State\"].transform([state])[0]\n",
        "\n",
        "    # Construct input DataFrame with the correct order of features as in training\n",
        "    input_data = pd.DataFrame([[crop_enc, crop_year, season_enc, state_enc, annual_rainfall, fertilizer, pesticide]],\n",
        "                              columns=X.columns)\n",
        "    predicted_yield = model.predict(input_data)\n",
        "    return f\"Predicted Yield: {predicted_yield[0]:.2f} metric tons per hectare\"\n",
        "\n",
        "# Example usage of the prediction function:\n",
        "# Now \"Kharif\" (without extra spaces) will be recognized.\n",
        "print(predict_crop_yield(\"Arecanut\", 1997, \"Kharif\", \"Andhra Pradesh\", 1200, 50, 5))\n"
      ]
    },
    {
      "cell_type": "code",
      "source": [
        "import pandas as pd\n",
        "import numpy as np\n",
        "from sklearn.model_selection import train_test_split\n",
        "from sklearn.linear_model import LinearRegression\n",
        "from sklearn.preprocessing import LabelEncoder\n",
        "from sklearn.metrics import mean_absolute_error, r2_score\n",
        "\n",
        "file_path = \"/crop_yield.csv\"\n",
        "try:\n",
        "    df = pd.read_csv(file_path)\n",
        "except FileNotFoundError:\n",
        "    print(f\"Error: Dataset file not found at {file_path}\")\n",
        "    exit()\n",
        "\n",
        "print(\"Columns in the dataset:\", df.columns.tolist())\n",
        "\n",
        "if \"Production\" in df.columns and \"Area\" in df.columns:\n",
        "    df[\"Production\"] = pd.to_numeric(df[\"Production\"], errors=\"coerce\")\n",
        "    df[\"Area\"] = pd.to_numeric(df[\"Area\"], errors=\"coerce\")\n",
        "else:\n",
        "    raise KeyError(\"The dataset must contain 'Production' and 'Area' columns.\")\n",
        "\n",
        "df.dropna(subset=[\"Production\", \"Area\"], inplace=True)\n",
        "\n",
        "df[\"Yield\"] = df[\"Production\"] / df[\"Area\"]\n",
        "\n",
        "label_encoders = {}\n",
        "categorical_cols = [\"Crop\", \"Season\", \"State\"]\n",
        "for col in categorical_cols:\n",
        "    if col in df.columns:\n",
        "        df[col] = df[col].astype(str).str.strip()\n",
        "        le = LabelEncoder()\n",
        "        df[col] = le.fit_transform(df[col])\n",
        "        label_encoders[col] = le\n",
        "    else:\n",
        "        print(f\"Warning: Column '{col}' not found in the dataset.\")\n",
        "\n",
        "X = df.drop(columns=[\"Yield\", \"Production\", \"Area\"])\n",
        "y = df[\"Yield\"]\n",
        "\n",
        "X_train, X_test, y_train, y_test = train_test_split(X, y, test_size=0.2, random_state=42)\n",
        "\n",
        "model = LinearRegression()\n",
        "model.fit(X_train, y_train)\n",
        "\n",
        "y_pred = model.predict(X_test)\n",
        "\n",
        "mae = mean_absolute_error(y_test, y_pred)\n",
        "r2 = r2_score(y_test, y_pred)\n",
        "rmse = np.sqrt(((y_pred - y_test) ** 2).mean())\n",
        "\n",
        "print(f\"Mean Absolute Error (MAE): {mae:.2f}\")\n",
        "print(f\"R² Score: {r2:.2f}\")\n",
        "print(f\"Root Mean Squared Error (RMSE): {rmse:.2f}\")\n",
        "\n",
        "def predict_crop_yield(crop, crop_year, season, state, annual_rainfall, fertilizer, pesticide):\n",
        "    crop = crop.strip()\n",
        "    season = season.strip()\n",
        "    state = state.strip()\n",
        "\n",
        "    if crop not in label_encoders[\"Crop\"].classes_:\n",
        "        return f\"Error: Crop '{crop}' not found. Valid options: {list(label_encoders['Crop'].classes_)}\"\n",
        "    if season not in label_encoders[\"Season\"].classes_:\n",
        "        return f\"Error: Season '{season}' not found. Valid options: {list(label_encoders['Season'].classes_)}\"\n",
        "    if state not in label_encoders[\"State\"].classes_:\n",
        "        return f\"Error: State '{state}' not found. Valid options: {list(label_encoders['State'].classes_)}\"\n",
        "\n",
        "    crop_enc = label_encoders[\"Crop\"].transform([crop])[0]\n",
        "    season_enc = label_encoders[\"Season\"].transform([season])[0]\n",
        "    state_enc = label_encoders[\"State\"].transform([state])[0]\n",
        "\n",
        "    input_data = pd.DataFrame([[crop_enc, crop_year, season_enc, state_enc, annual_rainfall, fertilizer, pesticide]],\n",
        "                              columns=X.columns)\n",
        "    predicted_yield = model.predict(input_data)\n",
        "    return f\"Predicted Yield: {predicted_yield[0]:.2f} metric tons per hectare\"\n",
        "\n",
        "print(predict_crop_yield(\"Arecanut\", 1997, \"Kharif\", \"Andhra Pradesh\", 1200, 50, 5))\n"
      ],
      "metadata": {
        "colab": {
          "base_uri": "https://localhost:8080/"
        },
        "id": "OIsfr5JXxEcz",
        "outputId": "cfb29909-a2c4-4c4b-a9ed-a444c8a81707"
      },
      "execution_count": null,
      "outputs": [
        {
          "output_type": "stream",
          "name": "stdout",
          "text": [
            "Columns in the dataset: ['Crop', 'Crop_Year', 'Season', 'State', 'Area', 'Production', 'Annual_Rainfall', 'Fertilizer', 'Pesticide', 'Yield']\n",
            "Mean Absolute Error (MAE): 220.31\n",
            "R² Score: 0.03\n",
            "Root Mean Squared Error (RMSE): 932.86\n",
            "Predicted Yield: 136.59 metric tons per hectare\n"
          ]
        }
      ]
    },
    {
      "cell_type": "markdown",
      "source": [
        "# New Section"
      ],
      "metadata": {
        "id": "Y5nhIwDAtRGJ"
      }
    }
  ]
}